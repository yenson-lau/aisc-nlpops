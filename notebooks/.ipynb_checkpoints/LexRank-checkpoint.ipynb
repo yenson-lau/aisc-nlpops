{
 "cells": [
  {
   "cell_type": "code",
   "execution_count": 1,
   "metadata": {},
   "outputs": [],
   "source": [
    "import os, pprint, re\n",
    "from datetime import datetime\n",
    "\n",
    "if not 'workbookDir' in globals():  workbookDir = os.getcwd()\n",
    "os.chdir(workbookDir+'/..')\n",
    "  \n",
    "try:    __set_jtplot__('dark')\n",
    "except: pass\n",
    "\n",
    "pp = pprint.PrettyPrinter(indent=2)"
   ]
  },
  {
   "cell_type": "code",
   "execution_count": 2,
   "metadata": {},
   "outputs": [
    {
     "name": "stdout",
     "output_type": "stream",
     "text": [
      "Using existing data.\n",
      "287227 documents.\n"
     ]
    }
   ],
   "source": [
    "%run datasets.py\n",
    "ds = CNNDailyMail(split='train')  # train, val, or test\n",
    "print(f'{len(ds)} documents.')"
   ]
  },
  {
   "cell_type": "code",
   "execution_count": 3,
   "metadata": {},
   "outputs": [
    {
     "name": "stdout",
     "output_type": "stream",
     "text": [
      "Creating model took 131s.\n"
     ]
    }
   ],
   "source": [
    "from lexrank import STOPWORDS, LexRank\n",
    "\n",
    "# Training time (Yenson's laptop):\n",
    "#  - 1000 segments: ~30s\n",
    "#  - 2000 segments: ~60s\n",
    "#  - 4000 segments: ~130s\n",
    "# Looks roughly linear (maybe nlog(n)?) -- won't know for sure at limited scale.\n",
    "trainSegs = min(4000, len(ds))\n",
    "\n",
    "ds.outFilt = lambda out: out.src  # use sources only\n",
    "startTime = datetime.now()\n",
    "lxr = LexRank(ds[:trainSegs], stopwords=STOPWORDS['en'])\n",
    "print(f'Creating model took {(datetime.now()-startTime).seconds}s.')"
   ]
  },
  {
   "cell_type": "code",
   "execution_count": 4,
   "metadata": {},
   "outputs": [
    {
     "name": "stdout",
     "output_type": "stream",
     "text": [
      "Test segment has 41 sentences.\n"
     ]
    }
   ],
   "source": [
    "ds.outFilt = None    # get source and target\n",
    "\n",
    "def to_sentences(seg):\n",
    "  sentences = map(lambda sent: sent.strip(), seg.split('.'))\n",
    "  sentences = filter(lambda sent: len(sent)>0, sentences)\n",
    "  sentences = map(lambda sent: re.sub(r' , ', ', ', sent), sentences)\n",
    "  sentences = map(lambda sent: sent[0].upper()+sent[1:]+'.', sentences)\n",
    "  return list(sentences)\n",
    "\n",
    "\n",
    "testSeg = ds[-1]\n",
    "testSents = to_sentences(testSeg.src)\n",
    "print(f'Test segment has {len(testSents)} sentences.')\n",
    "\n",
    "summary = lxr.get_summary(testSents, summary_size=2, threshold=.1)"
   ]
  },
  {
   "cell_type": "code",
   "execution_count": 5,
   "metadata": {},
   "outputs": [
    {
     "name": "stdout",
     "output_type": "stream",
     "text": [
      "['Controversial : many claim that the tradition is offensive towards black people.', 'Opponents say pete is an offensive caricature of black people.']\n"
     ]
    }
   ],
   "source": [
    "print(summary)"
   ]
  },
  {
   "cell_type": "code",
   "execution_count": 6,
   "metadata": {},
   "outputs": [
    {
     "name": "stdout",
     "output_type": "stream",
     "text": [
      "[ \"Facebook page supporting tradition gains one million ` likes ' in a day.\",\n",
      "  \"` do n't let the netherlands ' most beautiful tradition disappear, ' it \"\n",
      "  'says.',\n",
      "  'Un has condemned the tradition claiming it reflects racial prejudice.']\n"
     ]
    }
   ],
   "source": [
    "tgt = to_sentences(' '.join(ds.split_tags(testSeg.tgt)))\n",
    "pp.pprint(tgt)"
   ]
  },
  {
   "cell_type": "code",
   "execution_count": 7,
   "metadata": {},
   "outputs": [
    {
     "name": "stdout",
     "output_type": "stream",
     "text": [
      "[ { 'rouge-1': { 'f': 0.06779660549267486,\n",
      "                 'p': 0.09090909090909091,\n",
      "                 'r': 0.05405405405405406},\n",
      "    'rouge-2': { 'f': 0.03508771464450662,\n",
      "                 'p': 0.047619047619047616,\n",
      "                 'r': 0.027777777777777776},\n",
      "    'rouge-l': { 'f': 0.08333332864583361,\n",
      "                 'p': 0.1111111111111111,\n",
      "                 'r': 0.06666666666666667}}]\n"
     ]
    }
   ],
   "source": [
    "from rouge import Rouge \n",
    "\n",
    "rouge = Rouge()\n",
    "scores = rouge.get_scores(' '.join(summary), ' '.join(tgt))\n",
    "pp.pprint(scores)  # choose one of the F1 (f) scores"
   ]
  }
 ],
 "metadata": {
  "kernelspec": {
   "display_name": "Python 3",
   "language": "python",
   "name": "python3"
  },
  "language_info": {
   "codemirror_mode": {
    "name": "ipython",
    "version": 3
   },
   "file_extension": ".py",
   "mimetype": "text/x-python",
   "name": "python",
   "nbconvert_exporter": "python",
   "pygments_lexer": "ipython3",
   "version": "3.8.1"
  }
 },
 "nbformat": 4,
 "nbformat_minor": 4
}
