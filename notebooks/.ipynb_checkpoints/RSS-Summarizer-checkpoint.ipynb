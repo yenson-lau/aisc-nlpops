{
 "cells": [
  {
   "cell_type": "markdown",
   "metadata": {},
   "source": [
    "# Get a single page from CBC and pull out the story"
   ]
  },
  {
   "cell_type": "code",
   "execution_count": 1,
   "metadata": {},
   "outputs": [],
   "source": [
    "from bs4 import BeautifulSoup\n",
    "from html.parser import HTMLParser\n",
    "from urllib import request\n",
    "\n",
    "url = 'https://www.cbc.ca/news/canada/british-columbia/sooke-wildlife-game-cams-cougar-bears-custodian-1.5497408?cmp=rss'\n",
    "# url = \"https://www.cbc.ca/news/canada/british-columbia/6-new-covid-19-infections-in-b-c-as-virus-spreads-inside-care-home-1.5489921\"\n",
    "res = request.urlopen(url)\n",
    "html = res.read().decode('utf8')\n",
    "soup = BeautifulSoup(html, 'html.parser')\n",
    "\n",
    "# CAVEAT: To get the text we need to hone in on the right HTML component\n",
    "story = soup.findAll(\"div\", {\"class\": \"story\"})[0].findAll('p')"
   ]
  },
  {
   "cell_type": "markdown",
   "metadata": {},
   "source": [
    "#### \n",
    "For CBC the story is contained in the paragraphs inside the `div` with class `story`. We make some characterwise substitutions and remove any remaining HTML tags (e.g. paragraphs `<p>` and links `<a>`."
   ]
  },
  {
   "cell_type": "code",
   "execution_count": 9,
   "metadata": {},
   "outputs": [
    {
     "name": "stdout",
     "output_type": "stream",
     "text": [
      "Fear of catching the coronavirus has led to panic buying of products\n",
      "such as face masks, hand sanitizer and disposable gloves. But health\n",
      "experts warn some of these items may be ineffective, especially if\n",
      "they're not used properly.\n",
      "\n",
      "Here's what you need to know before stocking up on supplies during the\n",
      "coronavirus pandemic.\n",
      "\n",
      "The best way to prevent the spread of infections is to keep your hands\n",
      "clean, so it's no surprise that as the coronavirus spreads, stores are\n",
      "running out of hand sanitizer. Fortunately, old-fashioned soap and\n",
      "water will also do the trick.\n",
      "\n",
      "Microbiologist Keith Warriner said, if you're using a hand sanitizer,\n",
      "it must contain at least 60 per cent alcohol — the ingredient that\n",
      "kills the virus.\n",
      "\n",
      "\"If you haven't got enough [alcohol] in there, it doesn't do anything.\n",
      "It has basically dried the virus onto your hand,\" said Warriner, a\n",
      "professor at the University of Guelph.\n",
      "\n",
      "Even if your sanitizer has the right ingredients, Warriner still\n",
      "believes washing with soap provides the best protection because it\n",
      "washes the virus away.\n",
      "\n",
      "\"You're actually physically removing it.\"\n",
      "\n",
      "Medical microbiologist Dr. Jocelyn Srigley argues that either soap or\n",
      "hand sanitizer are equally effective — as long as when using either\n",
      "product, you cover all parts of your hands. That would include each\n",
      "finger, the fingernail area and the fronts and backs of your hands,\n",
      "all the way down to your wrists.\n",
      "\n",
      "\"If you're not following the proper technique, then it's not going to\n",
      "be as effective, regardless of which method you're using,\" said Dr.\n",
      "Srigley, a practising physician and professor at the University of\n",
      "British Columbia.\n",
      "\n",
      "Dr. Srigley said that face masks are best used if you are sick, and\n",
      "want to protect others from getting infected when you cough or sneeze.\n",
      "\n",
      "But she said a mask won't necessarily protect you from catching the\n",
      "coronavirus because the main way people get it is by touching an\n",
      "infected surface and then touching their mouth, eyes or nose.\n",
      "\n",
      "She points out that people often end up touching their face when\n",
      "putting on, taking off or adjusting a face mask, plus it does nothing\n",
      "to protect a person's eyes.\n",
      "\n",
      "\"It's actually not protecting you against the most common way the\n",
      "virus is spreading.\"\n",
      "\n",
      "If you still want to wear a face mask, there are two main types on the\n",
      "market. One is the disposable surgical mask made of paper material\n",
      "which Warriner warns is unable to completely block out the tiny\n",
      "coronavirus.\n",
      "\n",
      "\"It's certainly not foolproof,\" he said. \"You can't go and stand in\n",
      "the middle of a room with people with coronavirus and say, 'Look at\n",
      "me. I'm immune to it.'\"\n",
      "\n",
      "The second type of mask is the called the N95 which has a firmer\n",
      "exterior. Warriner said it's effective in blocking the virus, but that\n",
      "most people fail to wear it properly, allowing the virus to sneak in.\n",
      "\n",
      "Some shoppers are also stocking up on disposable gloves, in hope\n",
      "gloves will protect them from picking up the virus.\n",
      "\n",
      "But Dr. Srigley warns that wearing gloves could provide a false sense\n",
      "of security where people let down their guard.\n",
      "\n",
      "\"If you think you're protected because you're wearing a glove, but if\n",
      "you then touch your face with the glove, then you're at risk,\" she\n",
      "said.\n",
      "\n",
      "Removing dirty gloves without getting contaminated can also be tricky.\n",
      "Considering these complications, Dr. Srigley says that frequently\n",
      "sanitizing or washing hands is a better option.\n",
      "\n",
      "Some Canadians are hoping they can ward off the coronavirus by\n",
      "boosting their immune system with vitamins or other supplements.\n",
      "\n",
      "People with weak or compromised immune systems face a higher risk of\n",
      "getting seriously ill from the virus.\n",
      "\n",
      "Warriner said the best way to stay healthy is not by popping vitamins,\n",
      "but instead by staying rested and drinking plenty of liquids.\n",
      "\n",
      "\"The thing that really takes our immune system down is being\n",
      "dehydrated, being stressed, lack of sleep.\"\n",
      "\n",
      "And when it comes to stocking up on food, people should be wary of\n",
      "perishables that, if they go bad, could compromise a person's health,\n",
      "said Warriner.\n",
      "\n",
      "\"Basically, avoid food poisoning because that knocks our immune system\n",
      "[out].\"\n",
      "\n",
      "There have been reports across the globe that people are also\n",
      "stockpiling toilet paper. While the product is a staple of daily\n",
      "hygiene, it won't help ward off the coronavirus.\n",
      "\n",
      "Instead, the run on toilet paper is likely caused by panic buying\n",
      "which has caught on with many shoppers.\n",
      "\n",
      "Warriner said people think \"if someone's buying it, then I have to buy\n",
      "it.\"\n",
      "\n",
      "He also wonders whether some people may be confusing the coronavirus\n",
      "with the norovirus — a different virus which causes diarrhea.\n",
      "\n",
      "WATCH | Preparing for quarantine: Tips from an expert\n"
     ]
    }
   ],
   "source": [
    "import re, textwrap\n",
    "\n",
    "class TagRemover(HTMLParser):\n",
    "  def __init__(self):\n",
    "    super().__init__()\n",
    "    self.data = ''\n",
    "    \n",
    "  def handle_data(self, data):\n",
    "    self.data += data\n",
    "    \n",
    "  def parse(self, text):\n",
    "    self.data = ''\n",
    "    self.feed(text)\n",
    "    return self.data\n",
    "  \n",
    "reSubs = [\n",
    "  (r'\\xa0', ' '),    # replace incorrect spaces\n",
    "  (r'\\.\\.\\.', '…')   # replace '...' with '…'; periods mistaken as a sentence\n",
    "]\n",
    "\n",
    "def process_story(story, join='\\n\\n'):\n",
    "  for sub in reSubs:\n",
    "    story = [re.sub(sub[0], sub[1], str(p)) for p in story]\n",
    "  story = [TagRemover().parse(p.strip()) for p in story]\n",
    "  return join.join(story)\n",
    "\n",
    "def print_text(text):\n",
    "  for p in text.split('\\n'): \n",
    "    print(textwrap.fill(p))\n",
    "\n",
    "text = process_story(story) \n",
    "print_text(text)"
   ]
  },
  {
   "cell_type": "markdown",
   "metadata": {},
   "source": [
    "#### \n",
    "Now we just get our simple Textrank summarizer and summarize the story:"
   ]
  },
  {
   "cell_type": "code",
   "execution_count": 13,
   "metadata": {},
   "outputs": [
    {
     "name": "stdout",
     "output_type": "stream",
     "text": [
      "Fear of catching the coronavirus has led to panic buying of products such as face masks, hand sanitizer and disposable gloves.\n",
      "\n",
      "But she said a mask won't necessarily protect you from catching the coronavirus because the main way people get it is by touching an infected surface and then touching their mouth, eyes or nose.\n"
     ]
    }
   ],
   "source": [
    "from summa.summarizer import summarize\n",
    "textrank = lambda text: re.sub('\\n','\\n\\n', summarize(text, words=50))\n",
    "\n",
    "summary = textrank(text)\n",
    "print_text(summary)"
   ]
  },
  {
   "cell_type": "markdown",
   "metadata": {},
   "source": [
    "# Read RSS with `feedparser`\n",
    "The `feedparser` will give us a list of articles and their URLs given the link to some RSS feed."
   ]
  },
  {
   "cell_type": "code",
   "execution_count": 4,
   "metadata": {},
   "outputs": [
    {
     "name": "stdout",
     "output_type": "stream",
     "text": [
      "Number of RSS posts : 20\n"
     ]
    }
   ],
   "source": [
    "import feedparser\n",
    "\n",
    "rss = 'https://www.cbc.ca/cmlink/rss-technology'\n",
    "feed = feedparser.parse(rss)\n",
    "print(f'Number of RSS posts : {len(feed.entries)}')"
   ]
  },
  {
   "cell_type": "code",
   "execution_count": 5,
   "metadata": {},
   "outputs": [
    {
     "name": "stdout",
     "output_type": "stream",
     "text": [
      "Example entry -- Keys:\n",
      "['title', 'title_detail', 'links', 'link', 'id', 'guidislink', 'published', 'published_parsed', 'authors', 'author', 'author_detail', 'tags', 'summary', 'summary_detail']\n",
      "\n",
      "Post Title:\n",
      "Send in the trolls: Canada braces for an online disinformation assault on COVID-19\n",
      "\n",
      "Post URL:\n",
      "https://www.cbc.ca/news/politics/covid-19-coronavirus-disinformation-trolls-1.5497805?cmp=rss\n"
     ]
    }
   ],
   "source": [
    "entry = feed.entries[1]\n",
    "\n",
    "print('Example entry -- Keys:')\n",
    "print(list(entry.keys()))\n",
    "\n",
    "print(f'\\nPost Title:\\n{entry.title}')\n",
    "print(f'\\nPost URL:\\n{entry.link}')"
   ]
  },
  {
   "cell_type": "markdown",
   "metadata": {},
   "source": [
    "#### \n",
    "Now just take a bunch of these articles and run the summarizer on them. Done!"
   ]
  },
  {
   "cell_type": "code",
   "execution_count": 16,
   "metadata": {},
   "outputs": [
    {
     "name": "stdout",
     "output_type": "stream",
     "text": [
      "COVID-19 vaccine research takes on new urgency\n",
      "https://www.cbc.ca/news/health/covid-19-vaccine-re...\n",
      "---------\n",
      "Medical researchers are working on multiple approaches to experimental\n",
      "vaccines to protect against COVID-19.\n",
      "\n",
      "Kaushic, an immunologist and HIV vaccine researcher at McMaster\n",
      "University, said because COVID-19 is a lung infection, any vaccine\n",
      "needs to protect specifically against the virus getting into the\n",
      "lungs.\n",
      "\n",
      "\n",
      "Send in the trolls: Canada braces for an online di...\n",
      "https://www.cbc.ca/news/politics/covid-19-coronavi...\n",
      "---------\n",
      "Vance said he was not prepared to name names on Friday, but suggested\n",
      "that paying attention to — and trusting — Canada's elected leaders and\n",
      "government officials is the best inoculation against a viral\n",
      "disinformation campaign.\n",
      "\n",
      "\n",
      "Secret life of cougars captured by Sooke man's wil...\n",
      "https://www.cbc.ca/news/canada/british-columbia/so...\n",
      "---------\n",
      "When Paul Homer was putting up a wildlife camera on his Sooke, B.C.,\n",
      "property years ago, he captured images of a mouse.\n",
      "\n",
      "Over the years his cameras have caught bears wandering the paths,\n",
      "countless deer browsing and even a marten on the night or \"stealth\n",
      "cam.\"\n",
      "\n",
      "\n",
      "COVID-19 and social media: Limit the spread of fea...\n",
      "https://www.cbc.ca/news/technology/coronavirus-avo...\n",
      "---------\n",
      "But as health authorities attempt to calm the public, coronavirus mis-\n",
      "and disinformation is spreading through social media.\n",
      "\n",
      "As the crisis unfolds and expands, Décrypteurs, Radio-Canada's social\n",
      "media fact-checking team, has been monitoring the unprecedented spread\n",
      "of disinformation and fake news.\n",
      "\n",
      "On the other hand, social media feeds have a glut of COVID-19 posts\n",
      "from all sorts of sources.\n",
      "\n",
      "\n",
      "Trying to ward off the coronavirus? What products ...\n",
      "https://www.cbc.ca/news/business/coronvirus-produc...\n",
      "---------\n",
      "Fear of catching the coronavirus has led to panic buying of products\n",
      "such as face masks, hand sanitizer and disposable gloves.\n",
      "\n",
      "But she said a mask won't necessarily protect you from catching the\n",
      "coronavirus because the main way people get it is by touching an\n",
      "infected surface and then touching their mouth, eyes or nose.\n",
      "\n",
      "\n"
     ]
    }
   ],
   "source": [
    "articleLim = 5\n",
    "titleLim = 50\n",
    "for i, entry in enumerate(feed.entries):\n",
    "  if i == articleLim:  break\n",
    "  else:\n",
    "    res = request.urlopen(entry.link)\n",
    "    html = res.read().decode('utf8')\n",
    "    soup = BeautifulSoup(html, 'html.parser')\n",
    "    \n",
    "    story = soup.findAll(\"div\", {\"class\": \"story\"})[0].findAll('p')\n",
    "    text = process_story(story)\n",
    "    \n",
    "    summary = textrank(text)\n",
    "    \n",
    "    truncate = lambda t, lim: t if len(t)<=lim else t[:lim]+'...'\n",
    "    print(truncate(entry.title, 50))\n",
    "    print(truncate(entry.link, 60))\n",
    "    print('---------')\n",
    "    print_text(summary)\n",
    "    print('\\n')"
   ]
  }
 ],
 "metadata": {
  "kernelspec": {
   "display_name": "Python 3",
   "language": "python",
   "name": "python3"
  },
  "language_info": {
   "codemirror_mode": {
    "name": "ipython",
    "version": 3
   },
   "file_extension": ".py",
   "mimetype": "text/x-python",
   "name": "python",
   "nbconvert_exporter": "python",
   "pygments_lexer": "ipython3",
   "version": "3.8.1"
  }
 },
 "nbformat": 4,
 "nbformat_minor": 4
}
